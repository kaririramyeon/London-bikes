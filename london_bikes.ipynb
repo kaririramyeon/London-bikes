{
 "cells": [
  {
   "cell_type": "code",
   "execution_count": 2,
   "metadata": {},
   "outputs": [
    {
     "name": "stdout",
     "output_type": "stream",
     "text": [
      "Defaulting to user installation because normal site-packages is not writeable\n",
      "Requirement already satisfied: pandas in /Users/a123/Library/Python/3.9/lib/python/site-packages (2.1.4)\n",
      "Requirement already satisfied: pytz>=2020.1 in /Users/a123/Library/Python/3.9/lib/python/site-packages (from pandas) (2023.3.post1)\n",
      "Requirement already satisfied: tzdata>=2022.1 in /Users/a123/Library/Python/3.9/lib/python/site-packages (from pandas) (2023.4)\n",
      "Requirement already satisfied: numpy<2,>=1.22.4 in /Users/a123/Library/Python/3.9/lib/python/site-packages (from pandas) (1.26.2)\n",
      "Requirement already satisfied: python-dateutil>=2.8.2 in /Users/a123/Library/Python/3.9/lib/python/site-packages (from pandas) (2.8.2)\n",
      "Requirement already satisfied: six>=1.5 in /Library/Developer/CommandLineTools/Library/Frameworks/Python3.framework/Versions/3.9/lib/python3.9/site-packages (from python-dateutil>=2.8.2->pandas) (1.15.0)\n",
      "\u001b[33mWARNING: You are using pip version 21.2.4; however, version 23.3.2 is available.\n",
      "You should consider upgrading via the '/Library/Developer/CommandLineTools/usr/bin/python3 -m pip install --upgrade pip' command.\u001b[0m\n",
      "Note: you may need to restart the kernel to use updated packages.\n",
      "Defaulting to user installation because normal site-packages is not writeable\n",
      "Requirement already satisfied: kaggle in /Users/a123/Library/Python/3.9/lib/python/site-packages (1.5.16)\n",
      "Requirement already satisfied: requests in /Users/a123/Library/Python/3.9/lib/python/site-packages (from kaggle) (2.31.0)\n",
      "Requirement already satisfied: urllib3 in /Users/a123/Library/Python/3.9/lib/python/site-packages (from kaggle) (2.1.0)\n",
      "Requirement already satisfied: python-dateutil in /Users/a123/Library/Python/3.9/lib/python/site-packages (from kaggle) (2.8.2)\n",
      "Requirement already satisfied: python-slugify in /Users/a123/Library/Python/3.9/lib/python/site-packages (from kaggle) (8.0.1)\n",
      "Requirement already satisfied: six>=1.10 in /Library/Developer/CommandLineTools/Library/Frameworks/Python3.framework/Versions/3.9/lib/python3.9/site-packages (from kaggle) (1.15.0)\n",
      "Requirement already satisfied: bleach in /Users/a123/Library/Python/3.9/lib/python/site-packages (from kaggle) (6.1.0)\n",
      "Requirement already satisfied: certifi in /Users/a123/Library/Python/3.9/lib/python/site-packages (from kaggle) (2023.11.17)\n",
      "Requirement already satisfied: tqdm in /Users/a123/Library/Python/3.9/lib/python/site-packages (from kaggle) (4.66.1)\n",
      "Requirement already satisfied: webencodings in /Users/a123/Library/Python/3.9/lib/python/site-packages (from bleach->kaggle) (0.5.1)\n",
      "Requirement already satisfied: text-unidecode>=1.3 in /Users/a123/Library/Python/3.9/lib/python/site-packages (from python-slugify->kaggle) (1.3)\n",
      "Requirement already satisfied: idna<4,>=2.5 in /Users/a123/Library/Python/3.9/lib/python/site-packages (from requests->kaggle) (3.6)\n",
      "Requirement already satisfied: charset-normalizer<4,>=2 in /Users/a123/Library/Python/3.9/lib/python/site-packages (from requests->kaggle) (3.3.2)\n",
      "\u001b[33mWARNING: You are using pip version 21.2.4; however, version 23.3.2 is available.\n",
      "You should consider upgrading via the '/Library/Developer/CommandLineTools/usr/bin/python3 -m pip install --upgrade pip' command.\u001b[0m\n",
      "Note: you may need to restart the kernel to use updated packages.\n"
     ]
    }
   ],
   "source": [
    "%pip install pandas\n",
    "%pip install kaggle\n"
   ]
  },
  {
   "cell_type": "code",
   "execution_count": 7,
   "metadata": {},
   "outputs": [],
   "source": [
    "import pandas as pd \n",
    "import zipfile\n",
    "import kaggle"
   ]
  }
 ],
 "metadata": {
  "kernelspec": {
   "display_name": "Python 3",
   "language": "python",
   "name": "python3"
  },
  "language_info": {
   "codemirror_mode": {
    "name": "ipython",
    "version": 3
   },
   "file_extension": ".py",
   "mimetype": "text/x-python",
   "name": "python",
   "nbconvert_exporter": "python",
   "pygments_lexer": "ipython3",
   "version": "3.9.6"
  }
 },
 "nbformat": 4,
 "nbformat_minor": 2
}
